{
 "cells": [
  {
   "cell_type": "code",
   "execution_count": null,
   "id": "1e3afdc8-6983-4a1d-a595-f23259376c26",
   "metadata": {},
   "outputs": [],
   "source": [
    "%matplotlib inline\n",
    "import spikeinterface.full as si\n",
    "import numpy as np\n",
    "from os.path import join, split\n",
    "from glob import glob\n",
    "import matplotlib.pyplot as plt\n",
    "from pathlib import Path"
   ]
  },
  {
   "cell_type": "code",
   "execution_count": null,
   "id": "94118463-a454-4053-ac17-76127b6e8314",
   "metadata": {},
   "outputs": [],
   "source": [
    "spikeglx_folder = Path(r'/path/to/bin/file/')\n",
    "\n",
    "if len(glob(join(spikeglx_folder, '*.cbin'))) > 0:\n",
    "    rec = si.read_cbin_ibl(spikeglx_folder)\n",
    "else:\n",
    "    rec = si.read_spikeglx(spikeglx_folder, stream_id=f'imec{split(spikeglx_folder)[-1][-1]}.ap')\n",
    "rec"
   ]
  },
  {
   "cell_type": "code",
   "execution_count": null,
   "id": "b82c25dd-f47c-4161-b8e8-961f5fa61d9b",
   "metadata": {},
   "outputs": [],
   "source": [
    "# Apply high-pass filter\n",
    "print('\\nApplying high-pass filter.. ')\n",
    "rec_filtered = si.highpass_filter(rec, ftype='bessel', dtype='float32')\n",
    "\n",
    "# Correct for inter-sample phase shift\n",
    "print('Correcting for phase shift.. ')\n",
    "rec_shifted = si.phase_shift(rec_filtered)\n",
    "\n",
    "# Do common average referencing\n",
    "print('Performing common average referencing.. ')\n",
    "#rec_comref = si.common_reference(rec_filtered, reference='local')\n",
    "rec_comref = si.common_reference(rec_filtered)"
   ]
  },
  {
   "cell_type": "code",
   "execution_count": null,
   "id": "b5b631ab-e006-4136-b76d-a4b9159f6b02",
   "metadata": {},
   "outputs": [],
   "source": [
    "print('Detecting and interpolating over bad channels.. ')\n",
    "\n",
    "# Detect dead channels\n",
    "bad_channel_ids, all_channels = si.detect_bad_channels(rec_filtered, seed=42)\n",
    "prec_dead_ch = np.sum(all_channels == 'dead') / all_channels.shape[0]\n",
    "print(f'{np.sum(all_channels == \"dead\")} ({prec_dead_ch*100:.0f}%) dead channels')\n",
    "dead_channel_ids = rec_filtered.get_channel_ids()[all_channels == 'dead']\n",
    "out_channel_ids = rec_filtered.get_channel_ids()[all_channels == 'out']\n",
    "\n",
    "# Detect noisy channels\n",
    "bad_channel_ids, all_channels = si.detect_bad_channels(rec_comref, method='mad', seed=42)\n",
    "prec_noise_ch = np.sum(all_channels == 'noise') / all_channels.shape[0]\n",
    "print(f'{np.sum(all_channels == \"noise\")} ({prec_noise_ch*100:.0f}%) noise channels')\n",
    "noisy_channel_ids = rec_comref.get_channel_ids()[all_channels == 'noise']\n",
    "\n",
    "# Remove channels that are outside of the brain\n",
    "rec_no_out = rec_shifted.remove_channels(remove_channel_ids=out_channel_ids)\n",
    "        \n",
    "# Interpolate over bad channels          \n",
    "rec_interpolated = si.interpolate_bad_channels(rec_no_out, np.concatenate((\n",
    "    dead_channel_ids, noisy_channel_ids)))"
   ]
  },
  {
   "cell_type": "code",
   "execution_count": null,
   "id": "aac1eaf0-400c-459c-b244-162c7099a389",
   "metadata": {},
   "outputs": [],
   "source": [
    "print('Destriping.. ')\n",
    "if np.unique(rec_interpolated.get_property('group')).shape[0] > 1:\n",
    "    print('Multi-shank probe detected, doing destriping per shank')\n",
    "    rec_split = rec_interpolated.split_by(property='group')\n",
    "    rec_destripe = []\n",
    "    for sh in range(len(rec_split)):\n",
    "        rec_destripe.append(si.highpass_spatial_filter(rec_split[sh]))\n",
    "    rec_destriped = si.aggregate_channels(rec_destripe, renamed_channel_ids=rec_interpolated.get_channel_ids())\n",
    "else:\n",
    "    rec_destriped = si.highpass_spatial_filter(rec_interpolated)"
   ]
  },
  {
   "cell_type": "code",
   "execution_count": null,
   "id": "034499d8-2aab-435e-a8bb-91d42bbc8426",
   "metadata": {},
   "outputs": [],
   "source": [
    "%matplotlib widget\n",
    "si.plot_traces({'raw':rec, 'filtered': rec_filtered, 'car': rec_comref, 'destriped': rec_destriped},\n",
    "               time_range=[1000, 1000.04], color='k', backend='ipywidgets')"
   ]
  },
  {
   "cell_type": "code",
   "execution_count": null,
   "id": "0d635ebe-c9d4-4ac6-82d5-353f7e495a09",
   "metadata": {},
   "outputs": [],
   "source": [
    "# Plot spectral density\n",
    "data_chunk = si.get_random_data_chunks(\n",
    "    rec_destriped,\n",
    "    num_chunks_per_segment=1,\n",
    "    chunk_size=30000,\n",
    "    seed=0\n",
    ")\n",
    "\n",
    "fig, ax = plt.subplots(figsize=(10, 7))\n",
    "for tr in data_chunk.T:\n",
    "    p, f = ax.psd(tr, Fs=rec_destriped.sampling_frequency, color=\"b\")"
   ]
  },
  {
   "cell_type": "code",
   "execution_count": null,
   "id": "dde1a2a5-73a2-4a37-83b8-4231a3b220fe",
   "metadata": {},
   "outputs": [],
   "source": [
    "# Apply notch filter to peaks\n",
    "freqs = [11300, 12640]  # frequency to filter out\n",
    "qs = [8, 20]  # width of the filter (lower values = wider filter)\n",
    "\n",
    "for i, (freq, q) in enumerate(zip(freqs, qs)):\n",
    "    if i == 0:\n",
    "        rec_destriped_notch = si.notch_filter(rec_destriped, freq=freq, q=q)\n",
    "        rec_comref_notch = si.notch_filter(rec_comref, freq=freq, q=q)\n",
    "    else:\n",
    "        rec_destriped_notch = si.notch_filter(rec_destriped_notch, freq=freq, q=q)\n",
    "        rec_comref_notch = si.notch_filter(rec_comref_notch, freq=freq, q=q)\n",
    "        "
   ]
  },
  {
   "cell_type": "code",
   "execution_count": null,
   "id": "e9cc87da-0b59-496d-ad51-fa5f4489625e",
   "metadata": {},
   "outputs": [],
   "source": [
    "# Plot result of notch filter \n",
    "data_chunk = si.get_random_data_chunks(\n",
    "    rec_destriped_notch,\n",
    "    num_chunks_per_segment=1,\n",
    "    chunk_size=30000,\n",
    "    seed=0\n",
    ")\n",
    "\n",
    "fig, ax = plt.subplots(figsize=(10, 7))\n",
    "for tr in data_chunk.T:\n",
    "    p, f = ax.psd(tr, Fs=rec_destriped_notch.sampling_frequency, color=\"b\")"
   ]
  },
  {
   "cell_type": "code",
   "execution_count": null,
   "id": "4e4e3c7d-4f4d-4d10-8f22-1008b7940a28",
   "metadata": {},
   "outputs": [],
   "source": [
    "%matplotlib widget\n",
    "si.plot_traces({'destriped': rec_destriped, 'destriped notch': rec_destriped_notch,\n",
    "                'car': rec_comref, 'car notch': rec_comref_notch},\n",
    "               time_range=[1000, 1000.04], color='k', backend='ipywidgets')"
   ]
  }
 ],
 "metadata": {
  "kernelspec": {
   "display_name": "Python 3 (ipykernel)",
   "language": "python",
   "name": "python3"
  },
  "language_info": {
   "codemirror_mode": {
    "name": "ipython",
    "version": 3
   },
   "file_extension": ".py",
   "mimetype": "text/x-python",
   "name": "python",
   "nbconvert_exporter": "python",
   "pygments_lexer": "ipython3",
   "version": "3.10.13"
  }
 },
 "nbformat": 4,
 "nbformat_minor": 5
}
